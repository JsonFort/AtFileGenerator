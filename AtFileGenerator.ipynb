{
 "cells": [
  {
   "cell_type": "markdown",
   "metadata": {},
   "source": [
    "# Generate a Audit Trail test file\n",
    "## Define program variable"
   ]
  },
  {
   "cell_type": "code",
   "execution_count": 100,
   "metadata": {
    "jupyter": {
     "source_hidden": true
    }
   },
   "outputs": [],
   "source": [
    "#Define User Variable\n",
    "import ipywidgets as widgets\n",
    "import pandas as pd\n",
    "\n",
    "\n",
    "temp = pd.read_excel('AuditTrailDataEntries.xlsx', None)\n",
    "\n",
    "dataBaseEntries = {\n",
    "    'Setup': pd.DataFrame( columns = ['Start Date', 'End Date', 'Max Audit Trail entries', 'Filename']),\n",
    "    'UserDefault': pd.DataFrame( columns = ['User ID', 'Probability'] ),\n",
    "    'User': pd.DataFrame( columns = ['User ID', 'Probability'] ),\n",
    "    'Description': pd.DataFrame( columns = ['User ID', 'Object ID','Description', 'Probability'] ),\n",
    "    'Comments':  pd.DataFrame( columns = ['User ID', 'Description', 'Comment', 'Probability'] ),\n",
    "    'Variable': pd.DataFrame( columns = ['Name', 'min', 'max', 'step', 'Probability'] )\n",
    "}\n",
    "\n",
    "dataBase = pd.DataFrame(columns = ['Timestamp', 'User ID', 'Object ID', 'Description', 'Comments'])"
   ]
  },
  {
   "cell_type": "code",
   "execution_count": 101,
   "metadata": {},
   "outputs": [
    {
     "data": {
      "text/html": [
       "<div>\n",
       "<style scoped>\n",
       "    .dataframe tbody tr th:only-of-type {\n",
       "        vertical-align: middle;\n",
       "    }\n",
       "\n",
       "    .dataframe tbody tr th {\n",
       "        vertical-align: top;\n",
       "    }\n",
       "\n",
       "    .dataframe thead th {\n",
       "        text-align: right;\n",
       "    }\n",
       "</style>\n",
       "<table border=\"1\" class=\"dataframe\">\n",
       "  <thead>\n",
       "    <tr style=\"text-align: right;\">\n",
       "      <th></th>\n",
       "      <th>Start Date</th>\n",
       "      <th>End Date</th>\n",
       "      <th>Max Audit Trail entries</th>\n",
       "      <th>Filename</th>\n",
       "    </tr>\n",
       "  </thead>\n",
       "  <tbody>\n",
       "    <tr>\n",
       "      <th>1</th>\n",
       "      <td>01.05.2020 6:00:00</td>\n",
       "      <td>01.05.2020 15:00:00</td>\n",
       "      <td>100</td>\n",
       "      <td>AuditTrail.csv</td>\n",
       "    </tr>\n",
       "  </tbody>\n",
       "</table>\n",
       "</div>"
      ],
      "text/plain": [
       "           Start Date             End Date Max Audit Trail entries  \\\n",
       "1  01.05.2020 6:00:00  01.05.2020 15:00:00                     100   \n",
       "\n",
       "         Filename  \n",
       "1  AuditTrail.csv  "
      ]
     },
     "execution_count": 101,
     "metadata": {},
     "output_type": "execute_result"
    }
   ],
   "source": [
    "if dataBaseEntries['Setup'].empty:\n",
    "    dataBaseEntries['Setup'].loc[1,'Start Date'] = '01.05.2020 6:00:00'\n",
    "    dataBaseEntries['Setup'].loc[1,'End Date'] = '01.05.2020 15:00:00'\n",
    "    dataBaseEntries['Setup'].loc[1,'Max Audit Trail entries'] = 100\n",
    "    dataBaseEntries['Setup'].loc[1,'Filename'] = 'AuditTrail.csv'\n",
    "\n",
    "dataBaseEntries['Setup']"
   ]
  },
  {
   "cell_type": "markdown",
   "metadata": {},
   "source": [
    "## 1. Generate **default users** entries (if needed)\n",
    "    dataBaseEntries['UserDefault']"
   ]
  },
  {
   "cell_type": "code",
   "execution_count": 102,
   "metadata": {
    "jupyter": {
     "source_hidden": true
    }
   },
   "outputs": [],
   "source": [
    "#Define default users\n",
    "entries = {\n",
    "    'Admin': 0.2,\n",
    "    'System': 0.1,\n",
    "    'User': 0.7\n",
    "}\n",
    "\n",
    "if dataBaseEntries['UserDefault'].empty:\n",
    "    dataBaseEntries['UserDefault']['User ID'] = entries.keys()\n",
    "    dataBaseEntries['UserDefault']['Probability'] = entries.values()\n",
    "\n",
    "#dataBaseEntries['UserDefault']"
   ]
  },
  {
   "cell_type": "code",
   "execution_count": 103,
   "metadata": {
    "jupyter": {
     "source_hidden": true
    }
   },
   "outputs": [],
   "source": [
    "#userDB.loc['Admin']\n",
    "\n",
    "#userDB.loc[lambda userDB: userDB['User ID'] == 'Admin', :]\n",
    "#db = dataBaseEntries['UserDefault']\n",
    "#db.loc[ lambda db: db['User ID'] == 'template', :]\n"
   ]
  },
  {
   "cell_type": "markdown",
   "metadata": {},
   "source": [
    "## 2. Generate **real users** entries (if needed)\n",
    "    dataBaseEntries['User']"
   ]
  },
  {
   "cell_type": "code",
   "execution_count": 104,
   "metadata": {
    "jupyter": {
     "source_hidden": true
    }
   },
   "outputs": [],
   "source": [
    "#Define Users\n",
    "from IPython.display import display, HTML\n",
    "\n",
    "entriesUser = [\n",
    "    'pharma/de01234',\n",
    "    'pharma/I047874',\n",
    "    'pharma/I984321'\n",
    "]\n",
    "\n",
    "userDb = dataBaseEntries['User']\n",
    "\n",
    "\n",
    "if userDb.empty:\n",
    "    \n",
    "    userDefaultDb = dataBaseEntries['UserDefault']\n",
    "    \n",
    "    user = userDefaultDb.loc[ lambda userDefaultDb: userDefaultDb['User ID'] == 'User', :]\n",
    "    \n",
    "    if not user.empty:\n",
    "        size = len(entriesUser)\n",
    "        value = user['Probability'].values[0]/size\n",
    "            \n",
    "        userDb['User ID'] = entriesUser\n",
    "        userDb['Probability'] = [value]*(size)#equal porp for all users\n",
    "\n",
    "#display(dataBaseEntries['User'])\n"
   ]
  },
  {
   "cell_type": "code",
   "execution_count": 105,
   "metadata": {
    "jupyter": {
     "source_hidden": true
    }
   },
   "outputs": [
    {
     "data": {
      "application/vnd.jupyter.widget-view+json": {
       "model_id": "23b5fbfb199d4708a16f435c3588e80b",
       "version_major": 2,
       "version_minor": 0
      },
      "text/plain": [
       "HBox(children=(VBox(children=(Label(value='User Group'), HTML(value='<table border=\"1\" class=\"dataframe\">\\n  <…"
      ]
     },
     "metadata": {},
     "output_type": "display_data"
    }
   ],
   "source": [
    "# Output\n",
    "import ipywidgets as widgets\n",
    "\n",
    "h1 = dataBaseEntries['UserDefault'].to_html()\n",
    "h2 = dataBaseEntries['User'].to_html()\n",
    "L1 = widgets.Label('User Group')\n",
    "L2 = widgets.Label('User')\n",
    "b1 = widgets.VBox([L1,widgets.HTML(h1)])\n",
    "b2 = widgets.VBox([L2,widgets.HTML(h2)])\n",
    "widgets.HBox([b1,b2])"
   ]
  },
  {
   "cell_type": "markdown",
   "metadata": {},
   "source": [
    "## 3. Generate **description** entries (if needed)\n",
    "> dataBaseEntries['Description']\n",
    "    \n",
    "For each user role several descriptions will be provieded\n",
    "1. Admin\n",
    "2. System\n",
    "3. User "
   ]
  },
  {
   "cell_type": "code",
   "execution_count": 106,
   "metadata": {
    "jupyter": {
     "source_hidden": true
    }
   },
   "outputs": [],
   "source": [
    "#helping method\n",
    "def generateLists(userID, descriptions):\n",
    "    \n",
    "    userList = []\n",
    "    objectIdList = []\n",
    "    descriptionList = []\n",
    "    propList = []\n",
    "    \n",
    "    for key, value in descriptions.items():\n",
    "        userList = [userID] * len(descriptions) * len(value)\n",
    "        objectIdList = [key] * len(value)\n",
    "        descriptionList = list(value.keys())\n",
    "        propList = list(value.values())\n",
    "    \n",
    "    return [userList, objectIdList, descriptionList, propList]"
   ]
  },
  {
   "cell_type": "markdown",
   "metadata": {},
   "source": [
    "### 3.1. Admin description"
   ]
  },
  {
   "cell_type": "code",
   "execution_count": 107,
   "metadata": {
    "jupyter": {
     "source_hidden": true
    }
   },
   "outputs": [],
   "source": [
    "adminLists = [[]]\n",
    "\n",
    "if dataBaseEntries['Description'].empty or 'Admin' not in dataBaseEntries['Description']['User ID'].values:\n",
    "    adminDescriptions = {\n",
    "        'Anwendung': {\n",
    "            'Wechsel in die Betriebsart Online' : 0.2,\n",
    "            'Wechsel in die Betriebsart Offline' : 0.2,\n",
    "            'Anwendung wird gestartet' : 0.2,\n",
    "            'Anwendung wird beendet' : 0.4\n",
    "        }\n",
    "    }\n",
    "    adminLists = generateLists('Admin', adminDescriptions)"
   ]
  },
  {
   "cell_type": "markdown",
   "metadata": {},
   "source": [
    "### 3.2. System description"
   ]
  },
  {
   "cell_type": "code",
   "execution_count": 108,
   "metadata": {
    "jupyter": {
     "source_hidden": true
    }
   },
   "outputs": [],
   "source": [
    "systemLists = [[]]\n",
    "\n",
    "if dataBaseEntries['Description'].empty or 'System' not in dataBaseEntries['Description']['User ID'].values:\n",
    "    systemDescriptions = {\n",
    "        'Benutzerverwaltung': {\n",
    "            'Benutzer # wurde hinzugefügt' : 0.1,\n",
    "            'Benutzer # wurde entfernt' : 0.1,\n",
    "            'Benutzer # ist keiner Gruppe zugeordnet' : 0.4,\n",
    "            'Benutzer # ist einer neuen Gruppe zugeordnet' : 0.4,\n",
    "        }\n",
    "    }\n",
    "    systemLists = generateLists('System', systemDescriptions)"
   ]
  },
  {
   "cell_type": "markdown",
   "metadata": {},
   "source": [
    "### 3.3. User description\n",
    "#### 3.3.1. Generate static user descriptions"
   ]
  },
  {
   "cell_type": "code",
   "execution_count": 109,
   "metadata": {
    "jupyter": {
     "source_hidden": true
    }
   },
   "outputs": [],
   "source": [
    "userLists = [[]]\n",
    "\n",
    "if dataBaseEntries['Description'].empty or 'User' not in dataBaseEntries['Description']['User ID'].values:\n",
    "    userDescriptions = {\n",
    "        'Variable': {\n",
    "            'Wert wurde gelöscht' : 0.1,\n",
    "            'Hambeuldu' : 0.1\n",
    "        }\n",
    "    } \n",
    "    userLists = generateLists('User', userDescriptions)"
   ]
  },
  {
   "cell_type": "markdown",
   "metadata": {},
   "source": [
    "#### 3.3.2. Generate dynamic user descriptions\n",
    "\n",
    "The descriptions for the role ***User*** will be generated *random dynamic* with the entries from <br>\n",
    "   \n",
    ">dataBaseEntries['Variable']"
   ]
  },
  {
   "cell_type": "code",
   "execution_count": 110,
   "metadata": {
    "jupyter": {
     "source_hidden": true
    }
   },
   "outputs": [
    {
     "data": {
      "text/html": [
       "<div>\n",
       "<style scoped>\n",
       "    .dataframe tbody tr th:only-of-type {\n",
       "        vertical-align: middle;\n",
       "    }\n",
       "\n",
       "    .dataframe tbody tr th {\n",
       "        vertical-align: top;\n",
       "    }\n",
       "\n",
       "    .dataframe thead th {\n",
       "        text-align: right;\n",
       "    }\n",
       "</style>\n",
       "<table border=\"1\" class=\"dataframe\">\n",
       "  <thead>\n",
       "    <tr style=\"text-align: right;\">\n",
       "      <th></th>\n",
       "      <th>Name</th>\n",
       "      <th>min</th>\n",
       "      <th>max</th>\n",
       "      <th>step</th>\n",
       "      <th>Probability</th>\n",
       "    </tr>\n",
       "  </thead>\n",
       "  <tbody>\n",
       "    <tr>\n",
       "      <th>0</th>\n",
       "      <td>Schwellwert</td>\n",
       "      <td>0.00</td>\n",
       "      <td>255</td>\n",
       "      <td>1.0</td>\n",
       "      <td>0.1</td>\n",
       "    </tr>\n",
       "    <tr>\n",
       "      <th>1</th>\n",
       "      <td>Umfang</td>\n",
       "      <td>32.00</td>\n",
       "      <td>600</td>\n",
       "      <td>5.0</td>\n",
       "      <td>0.1</td>\n",
       "    </tr>\n",
       "    <tr>\n",
       "      <th>2</th>\n",
       "      <td>Verstärkung</td>\n",
       "      <td>0.00</td>\n",
       "      <td>300</td>\n",
       "      <td>1.0</td>\n",
       "      <td>0.1</td>\n",
       "    </tr>\n",
       "    <tr>\n",
       "      <th>3</th>\n",
       "      <td>Mirror</td>\n",
       "      <td>0.00</td>\n",
       "      <td>1</td>\n",
       "      <td>1.0</td>\n",
       "      <td>0.1</td>\n",
       "    </tr>\n",
       "    <tr>\n",
       "      <th>4</th>\n",
       "      <td>Position</td>\n",
       "      <td>10000.00</td>\n",
       "      <td>20000</td>\n",
       "      <td>20.0</td>\n",
       "      <td>0.1</td>\n",
       "    </tr>\n",
       "    <tr>\n",
       "      <th>5</th>\n",
       "      <td>Länge</td>\n",
       "      <td>-10.00</td>\n",
       "      <td>100</td>\n",
       "      <td>1.0</td>\n",
       "      <td>0.1</td>\n",
       "    </tr>\n",
       "    <tr>\n",
       "      <th>6</th>\n",
       "      <td>Breite</td>\n",
       "      <td>-20.00</td>\n",
       "      <td>100</td>\n",
       "      <td>1.0</td>\n",
       "      <td>0.1</td>\n",
       "    </tr>\n",
       "    <tr>\n",
       "      <th>7</th>\n",
       "      <td>Geschwindigkeit</td>\n",
       "      <td>1.00</td>\n",
       "      <td>500</td>\n",
       "      <td>1.0</td>\n",
       "      <td>0.1</td>\n",
       "    </tr>\n",
       "    <tr>\n",
       "      <th>8</th>\n",
       "      <td>Gewicht</td>\n",
       "      <td>0.01</td>\n",
       "      <td>100</td>\n",
       "      <td>0.1</td>\n",
       "      <td>0.1</td>\n",
       "    </tr>\n",
       "    <tr>\n",
       "      <th>9</th>\n",
       "      <td>Dauer</td>\n",
       "      <td>10.00</td>\n",
       "      <td>1000</td>\n",
       "      <td>10.0</td>\n",
       "      <td>0.1</td>\n",
       "    </tr>\n",
       "  </tbody>\n",
       "</table>\n",
       "</div>"
      ],
      "text/plain": [
       "              Name       min    max  step  Probability\n",
       "0      Schwellwert      0.00    255   1.0          0.1\n",
       "1           Umfang     32.00    600   5.0          0.1\n",
       "2      Verstärkung      0.00    300   1.0          0.1\n",
       "3           Mirror      0.00      1   1.0          0.1\n",
       "4         Position  10000.00  20000  20.0          0.1\n",
       "5            Länge    -10.00    100   1.0          0.1\n",
       "6           Breite    -20.00    100   1.0          0.1\n",
       "7  Geschwindigkeit      1.00    500   1.0          0.1\n",
       "8          Gewicht      0.01    100   0.1          0.1\n",
       "9            Dauer     10.00   1000  10.0          0.1"
      ]
     },
     "metadata": {},
     "output_type": "display_data"
    }
   ],
   "source": [
    "#add variable names\n",
    "#add variable value ranges\n",
    "#generate entries for userList or enhance dataBase Entries\n",
    "\n",
    "\n",
    "if dataBaseEntries['Variable'].empty:\n",
    "    varEntries = {\n",
    "        'Schwellwert': [[0, 255, 1], 0.1],\n",
    "        'Umfang': [[32, 600, 5], 0.1],\n",
    "        'Verstärkung': [[0, 300, 1], 0.1],\n",
    "        'Mirror': [[0, 1, 1], 0.1],\n",
    "        'Position': [[10000, 20000, 20], 0.1],\n",
    "        'Länge': [[-10, 100, 1], 0.1],\n",
    "        'Breite': [[-20, 100, 1], 0.1],\n",
    "        'Geschwindigkeit': [[1, 500, 1], 0.1],\n",
    "        'Gewicht': [[0.01, 100, 0.1], 0.1],\n",
    "        'Dauer': [[10, 1000, 10], 0.1]      \n",
    "    }\n",
    "    \n",
    "    nameList = []\n",
    "    minList = []\n",
    "    maxList = []\n",
    "    stepList = []\n",
    "    propList = []\n",
    "    \n",
    "    for key, value in varEntries.items():\n",
    "        nameList.append(key)\n",
    "        minList.append(value[0][0])\n",
    "        maxList.append(value[0][1])\n",
    "        stepList.append(value[0][2])\n",
    "        propList.append(value[1])\n",
    "\n",
    "    dataBaseEntries['Variable']['Name'] = nameList\n",
    "    dataBaseEntries['Variable']['min'] = minList\n",
    "    dataBaseEntries['Variable']['max'] = maxList\n",
    "    dataBaseEntries['Variable']['step'] = stepList\n",
    "    dataBaseEntries['Variable']['Probability'] = propList\n",
    "    \n",
    "    display(dataBaseEntries['Variable'])"
   ]
  },
  {
   "cell_type": "markdown",
   "metadata": {},
   "source": [
    "#### 3.3.2.1 Generate random entries"
   ]
  },
  {
   "cell_type": "code",
   "execution_count": 111,
   "metadata": {
    "jupyter": {
     "source_hidden": true
    }
   },
   "outputs": [],
   "source": [
    "import numpy as np # import random insteed\n",
    "\n",
    "nVarEntries = dataBaseEntries['Setup'].loc[1, 'Max Audit Trail entries']\n",
    "variableDb = dataBaseEntries['Variable']\n",
    "varEntries = np.random.choice(variableDb['Name'].to_list(), nVarEntries)\n",
    "\n",
    "userLists[0] += ['User']*nVarEntries\n",
    "userLists[1] += ['Variable']*nVarEntries\n",
    "\n",
    "for entry in varEntries:\n",
    "    row = variableDb.loc[variableDb['Name'] == entry]\n",
    "    collection = np.arange(row['min'].iloc[0],row['max'].iloc[0],row['step'].iloc[0])\n",
    "    mm = np.random.choice(collection,2)\n",
    "    text = f'Variable {entry} is changed from {mm[0]} to {mm[1]}'\n",
    "    userLists[2].append( text )\n",
    "    userLists[3].append( row['Probability'].iloc[0] )"
   ]
  },
  {
   "cell_type": "markdown",
   "metadata": {},
   "source": [
    "## Add the lists to the data base"
   ]
  },
  {
   "cell_type": "code",
   "execution_count": 112,
   "metadata": {
    "jupyter": {
     "source_hidden": true
    }
   },
   "outputs": [
    {
     "data": {
      "text/html": [
       "<div>\n",
       "<style scoped>\n",
       "    .dataframe tbody tr th:only-of-type {\n",
       "        vertical-align: middle;\n",
       "    }\n",
       "\n",
       "    .dataframe tbody tr th {\n",
       "        vertical-align: top;\n",
       "    }\n",
       "\n",
       "    .dataframe thead th {\n",
       "        text-align: right;\n",
       "    }\n",
       "</style>\n",
       "<table border=\"1\" class=\"dataframe\">\n",
       "  <thead>\n",
       "    <tr style=\"text-align: right;\">\n",
       "      <th></th>\n",
       "      <th>User ID</th>\n",
       "      <th>Object ID</th>\n",
       "      <th>Description</th>\n",
       "      <th>Probability</th>\n",
       "    </tr>\n",
       "  </thead>\n",
       "  <tbody>\n",
       "    <tr>\n",
       "      <th>0</th>\n",
       "      <td>Admin</td>\n",
       "      <td>Anwendung</td>\n",
       "      <td>Wechsel in die Betriebsart Online</td>\n",
       "      <td>0.200000</td>\n",
       "    </tr>\n",
       "    <tr>\n",
       "      <th>1</th>\n",
       "      <td>Admin</td>\n",
       "      <td>Anwendung</td>\n",
       "      <td>Wechsel in die Betriebsart Offline</td>\n",
       "      <td>0.200000</td>\n",
       "    </tr>\n",
       "    <tr>\n",
       "      <th>2</th>\n",
       "      <td>Admin</td>\n",
       "      <td>Anwendung</td>\n",
       "      <td>Anwendung wird gestartet</td>\n",
       "      <td>0.200000</td>\n",
       "    </tr>\n",
       "    <tr>\n",
       "      <th>3</th>\n",
       "      <td>Admin</td>\n",
       "      <td>Anwendung</td>\n",
       "      <td>Anwendung wird beendet</td>\n",
       "      <td>0.400000</td>\n",
       "    </tr>\n",
       "    <tr>\n",
       "      <th>4</th>\n",
       "      <td>System</td>\n",
       "      <td>Benutzerverwaltung</td>\n",
       "      <td>Benutzer # wurde hinzugefügt</td>\n",
       "      <td>0.100000</td>\n",
       "    </tr>\n",
       "    <tr>\n",
       "      <th>...</th>\n",
       "      <td>...</td>\n",
       "      <td>...</td>\n",
       "      <td>...</td>\n",
       "      <td>...</td>\n",
       "    </tr>\n",
       "    <tr>\n",
       "      <th>105</th>\n",
       "      <td>User</td>\n",
       "      <td>Variable</td>\n",
       "      <td>Variable Verstärkung is changed from 7.0 to 100.0</td>\n",
       "      <td>0.009804</td>\n",
       "    </tr>\n",
       "    <tr>\n",
       "      <th>106</th>\n",
       "      <td>User</td>\n",
       "      <td>Variable</td>\n",
       "      <td>Variable Verstärkung is changed from 263.0 to ...</td>\n",
       "      <td>0.009804</td>\n",
       "    </tr>\n",
       "    <tr>\n",
       "      <th>107</th>\n",
       "      <td>User</td>\n",
       "      <td>Variable</td>\n",
       "      <td>Variable Dauer is changed from 80.0 to 430.0</td>\n",
       "      <td>0.009804</td>\n",
       "    </tr>\n",
       "    <tr>\n",
       "      <th>108</th>\n",
       "      <td>User</td>\n",
       "      <td>Variable</td>\n",
       "      <td>Variable Geschwindigkeit is changed from 308.0...</td>\n",
       "      <td>0.009804</td>\n",
       "    </tr>\n",
       "    <tr>\n",
       "      <th>109</th>\n",
       "      <td>User</td>\n",
       "      <td>Variable</td>\n",
       "      <td>Variable Mirror is changed from 0.0 to 0.0</td>\n",
       "      <td>0.009804</td>\n",
       "    </tr>\n",
       "  </tbody>\n",
       "</table>\n",
       "<p>110 rows × 4 columns</p>\n",
       "</div>"
      ],
      "text/plain": [
       "    User ID           Object ID  \\\n",
       "0     Admin           Anwendung   \n",
       "1     Admin           Anwendung   \n",
       "2     Admin           Anwendung   \n",
       "3     Admin           Anwendung   \n",
       "4    System  Benutzerverwaltung   \n",
       "..      ...                 ...   \n",
       "105    User            Variable   \n",
       "106    User            Variable   \n",
       "107    User            Variable   \n",
       "108    User            Variable   \n",
       "109    User            Variable   \n",
       "\n",
       "                                           Description  Probability  \n",
       "0                    Wechsel in die Betriebsart Online     0.200000  \n",
       "1                   Wechsel in die Betriebsart Offline     0.200000  \n",
       "2                             Anwendung wird gestartet     0.200000  \n",
       "3                               Anwendung wird beendet     0.400000  \n",
       "4                         Benutzer # wurde hinzugefügt     0.100000  \n",
       "..                                                 ...          ...  \n",
       "105  Variable Verstärkung is changed from 7.0 to 100.0     0.009804  \n",
       "106  Variable Verstärkung is changed from 263.0 to ...     0.009804  \n",
       "107       Variable Dauer is changed from 80.0 to 430.0     0.009804  \n",
       "108  Variable Geschwindigkeit is changed from 308.0...     0.009804  \n",
       "109         Variable Mirror is changed from 0.0 to 0.0     0.009804  \n",
       "\n",
       "[110 rows x 4 columns]"
      ]
     },
     "execution_count": 112,
     "metadata": {},
     "output_type": "execute_result"
    }
   ],
   "source": [
    "masterList = [[],[],[],[]]\n",
    "\n",
    "if adminLists:\n",
    "    masterList[0] += adminLists[0]\n",
    "    masterList[1] += adminLists[1]\n",
    "    masterList[2] += adminLists[2]\n",
    "    #normelize values\n",
    "    masterList[3] += [float(i)/sum(adminLists[3]) for i in adminLists[3]] \n",
    "    \n",
    "if systemLists:\n",
    "    masterList[0] += systemLists[0]\n",
    "    masterList[1] += systemLists[1]\n",
    "    masterList[2] += systemLists[2]\n",
    "    #normelize values\n",
    "    masterList[3] += [float(i)/sum(systemLists[3]) for i in systemLists[3]] \n",
    "if userLists:\n",
    "    masterList[0] += userLists[0]\n",
    "    masterList[1] += userLists[1]\n",
    "    masterList[2] += userLists[2]\n",
    "    #normelize values\n",
    "    masterList[3] += [float(i)/sum(userLists[3]) for i in userLists[3]] \n",
    "\n",
    "    \n",
    "dataBaseEntries['Description']['User ID'] = masterList[0]\n",
    "dataBaseEntries['Description']['Object ID'] = masterList[1]\n",
    "dataBaseEntries['Description']['Description'] = masterList[2]\n",
    "dataBaseEntries['Description']['Probability'] = masterList[3]\n",
    "\n",
    "dataBaseEntries['Description']"
   ]
  },
  {
   "cell_type": "code",
   "execution_count": 113,
   "metadata": {},
   "outputs": [
    {
     "data": {
      "image/png": "[encoded data removed]",
      "text/plain": [
       "<Figure size 432x288 with 1 Axes>"
      ]
     },
     "metadata": {},
     "output_type": "display_data"
    }
   ],
   "source": [
    "#Generate random values\n",
    "#1. numbers of audit trail entries\n",
    "import collections\n",
    "import matplotlib.pyplot as plt\n",
    "\n",
    "#userDB = dataBaseEntries['User']\n",
    "\n",
    "userDB = pd.concat( \n",
    "    [dataBaseEntries['User'], userDefaultDb.loc[ lambda userDefaultDb: userDefaultDb['User ID'] != 'User', :]], \n",
    "    ignore_index = True )\n",
    "\n",
    "\n",
    "nOfAtEntries = np.random.choice(dataBaseEntries['Setup']['Max Audit Trail entries'].iloc[0], 1)\n",
    "#userEntries = np.random.choice(userIDs, nOfAtEntries, p=userProp)\n",
    "userEntries = np.random.choice(userDB['User ID'].to_list(), nOfAtEntries, p=userDB['Probability'].to_list())\n",
    "#plot the distribution of users\n",
    "plotValues = collections.Counter(userEntries)\n",
    "\n",
    "plt.pie(list(plotValues.values()), labels=list(plotValues.keys()), startangle=90, autopct='%.1f%%' )\n",
    "plt.title(f'Distribution of Users, \\ntotal entries: {nOfAtEntries}')\n",
    "\n",
    "plt.show()"
   ]
  },
  {
   "cell_type": "code",
   "execution_count": 114,
   "metadata": {},
   "outputs": [],
   "source": [
    "#3. enhance database entries\n",
    "userList = []\n",
    "objectList = []\n",
    "descriptionList = []\n",
    "commentsList = []"
   ]
  },
  {
   "cell_type": "code",
   "execution_count": 115,
   "metadata": {},
   "outputs": [],
   "source": [
    "#User login and logof entries\n",
    "logIn = 'An'\n",
    "logOff = 'Ab'\n",
    "\n",
    "logEntryDic = {\n",
    "    'UserId': dataBaseEntries['UserDefault']['User ID'][1], \n",
    "    'ObjectId': 'Benutzerverwaltung',\n",
    "    'Description': 'meldung von Benutzer # war erfolgreich.' \n",
    "}"
   ]
  },
  {
   "cell_type": "code",
   "execution_count": 116,
   "metadata": {},
   "outputs": [],
   "source": [
    "#helping functions\n",
    "import re #regex \n",
    "\n",
    "def logEntry(logPostFix, user):\n",
    "    userList.append(logEntryDic['UserId'])\n",
    "    descriptionList.append(logPostFix + re.sub('#', user, logEntryDic['Description']))\n",
    "    objectList.append(logEntryDic['ObjectId'])\n",
    "    \n",
    "def userEntry(user):\n",
    "    userList.append(user)\n",
    "    \n",
    "    #1 getDataFrame Description\n",
    "    db = dataBaseEntries['Description']\n",
    "    \n",
    "    #2 get Description \n",
    "    #2.1 get user group\n",
    "    sUser = user\n",
    "    if sUser not in dataBaseEntries['UserDefault']['User ID'].to_list():\n",
    "        sUser = 'User'\n",
    "    \n",
    "    #2.2 get Description related to user\n",
    "    selection = db.loc[ lambda db: db['User ID'] == sUser, :]\n",
    "    \n",
    "    #3 get random user action\n",
    "    ds = np.random.choice(selection['Description'], 1, p=selection['Probability'])                          \n",
    "        \n",
    "    descriptionList.append(ds[0])# random user related description ID\n",
    "    \n",
    "    #4 get related object id to the description \n",
    "    row = selection.loc[selection['Description'] == ds[0]]\n",
    "    objectList.append( row['Object ID'].iloc[0] )#random user related object ID\n",
    "    \n",
    "    #5 get related comment     "
   ]
  },
  {
   "cell_type": "code",
   "execution_count": 117,
   "metadata": {},
   "outputs": [],
   "source": [
    "#3. enhance database entries\n",
    "loggedUser = None\n",
    "newUser = None\n",
    "\n",
    "for user in userEntries:\n",
    "    if user not in dataBaseEntries['User'].values:\n",
    "        if loggedUser:\n",
    "            logEntry(logOff, loggedUser)\n",
    "            loggedUser = None\n",
    "        userEntry(user)\n",
    "    \n",
    "    if user in dataBaseEntries['User'].values:\n",
    "        newUser = user      \n",
    "        while newUser:\n",
    "            if not loggedUser:\n",
    "                loggedUser = user\n",
    "                logEntry(logIn, user) \n",
    "            if loggedUser == user:\n",
    "                userEntry(user)\n",
    "                newUser = None\n",
    "            else:\n",
    "                logEntry(logOff, loggedUser)\n",
    "                loggedUser = None\n",
    "                newUser = user\n",
    "            \n",
    "if loggedUser:\n",
    "    logEntry(logOff, user)\n",
    "    loggedUser = None"
   ]
  },
  {
   "cell_type": "code",
   "execution_count": 118,
   "metadata": {},
   "outputs": [],
   "source": [
    "#2. Random timestamps for each entry\n",
    "atStartDate = dataBaseEntries['Setup'].loc[1, 'Start Date']\n",
    "atEndDate = dataBaseEntries['Setup'].loc[1, 'End Date']\n",
    "\n",
    "entries = np.random.choice( pd.date_range( atStartDate, atEndDate, freq='S'), \n",
    "                           len(userList), \n",
    "                           replace=False)"
   ]
  },
  {
   "cell_type": "code",
   "execution_count": 119,
   "metadata": {},
   "outputs": [
    {
     "data": {
      "text/html": [
       "<div>\n",
       "<style scoped>\n",
       "    .dataframe tbody tr th:only-of-type {\n",
       "        vertical-align: middle;\n",
       "    }\n",
       "\n",
       "    .dataframe tbody tr th {\n",
       "        vertical-align: top;\n",
       "    }\n",
       "\n",
       "    .dataframe thead th {\n",
       "        text-align: right;\n",
       "    }\n",
       "</style>\n",
       "<table border=\"1\" class=\"dataframe\">\n",
       "  <thead>\n",
       "    <tr style=\"text-align: right;\">\n",
       "      <th></th>\n",
       "      <th>Timestamp</th>\n",
       "      <th>User ID</th>\n",
       "      <th>Object ID</th>\n",
       "      <th>Description</th>\n",
       "      <th>Comments</th>\n",
       "    </tr>\n",
       "  </thead>\n",
       "  <tbody>\n",
       "    <tr>\n",
       "      <th>0</th>\n",
       "      <td>2020-01-05 06:03:03</td>\n",
       "      <td>System</td>\n",
       "      <td>Benutzerverwaltung</td>\n",
       "      <td>Anmeldung von Benutzer pharma/de01234 war erfo...</td>\n",
       "      <td>NaN</td>\n",
       "    </tr>\n",
       "    <tr>\n",
       "      <th>1</th>\n",
       "      <td>2020-01-05 06:03:16</td>\n",
       "      <td>pharma/de01234</td>\n",
       "      <td>Variable</td>\n",
       "      <td>Variable Dauer is changed from 500.0 to 650.0</td>\n",
       "      <td>NaN</td>\n",
       "    </tr>\n",
       "    <tr>\n",
       "      <th>2</th>\n",
       "      <td>2020-01-05 06:05:14</td>\n",
       "      <td>System</td>\n",
       "      <td>Benutzerverwaltung</td>\n",
       "      <td>Abmeldung von Benutzer pharma/de01234 war erfo...</td>\n",
       "      <td>NaN</td>\n",
       "    </tr>\n",
       "    <tr>\n",
       "      <th>3</th>\n",
       "      <td>2020-01-05 06:24:45</td>\n",
       "      <td>System</td>\n",
       "      <td>Benutzerverwaltung</td>\n",
       "      <td>Anmeldung von Benutzer pharma/I984321 war erfo...</td>\n",
       "      <td>NaN</td>\n",
       "    </tr>\n",
       "    <tr>\n",
       "      <th>4</th>\n",
       "      <td>2020-01-05 06:39:18</td>\n",
       "      <td>pharma/I984321</td>\n",
       "      <td>Variable</td>\n",
       "      <td>Variable Geschwindigkeit is changed from 18.0 ...</td>\n",
       "      <td>NaN</td>\n",
       "    </tr>\n",
       "    <tr>\n",
       "      <th>...</th>\n",
       "      <td>...</td>\n",
       "      <td>...</td>\n",
       "      <td>...</td>\n",
       "      <td>...</td>\n",
       "      <td>...</td>\n",
       "    </tr>\n",
       "    <tr>\n",
       "      <th>67</th>\n",
       "      <td>2020-01-05 14:35:24</td>\n",
       "      <td>pharma/de01234</td>\n",
       "      <td>Variable</td>\n",
       "      <td>Variable Mirror is changed from 0.0 to 0.0</td>\n",
       "      <td>NaN</td>\n",
       "    </tr>\n",
       "    <tr>\n",
       "      <th>68</th>\n",
       "      <td>2020-01-05 14:39:49</td>\n",
       "      <td>System</td>\n",
       "      <td>Benutzerverwaltung</td>\n",
       "      <td>Abmeldung von Benutzer pharma/de01234 war erfo...</td>\n",
       "      <td>NaN</td>\n",
       "    </tr>\n",
       "    <tr>\n",
       "      <th>69</th>\n",
       "      <td>2020-01-05 14:39:50</td>\n",
       "      <td>System</td>\n",
       "      <td>Benutzerverwaltung</td>\n",
       "      <td>Anmeldung von Benutzer pharma/I984321 war erfo...</td>\n",
       "      <td>NaN</td>\n",
       "    </tr>\n",
       "    <tr>\n",
       "      <th>70</th>\n",
       "      <td>2020-01-05 14:49:03</td>\n",
       "      <td>pharma/I984321</td>\n",
       "      <td>Variable</td>\n",
       "      <td>Variable Dauer is changed from 930.0 to 120.0</td>\n",
       "      <td>NaN</td>\n",
       "    </tr>\n",
       "    <tr>\n",
       "      <th>71</th>\n",
       "      <td>2020-01-05 14:53:13</td>\n",
       "      <td>System</td>\n",
       "      <td>Benutzerverwaltung</td>\n",
       "      <td>Abmeldung von Benutzer pharma/I984321 war erfo...</td>\n",
       "      <td>NaN</td>\n",
       "    </tr>\n",
       "  </tbody>\n",
       "</table>\n",
       "<p>72 rows × 5 columns</p>\n",
       "</div>"
      ],
      "text/plain": [
       "             Timestamp         User ID           Object ID  \\\n",
       "0  2020-01-05 06:03:03          System  Benutzerverwaltung   \n",
       "1  2020-01-05 06:03:16  pharma/de01234            Variable   \n",
       "2  2020-01-05 06:05:14          System  Benutzerverwaltung   \n",
       "3  2020-01-05 06:24:45          System  Benutzerverwaltung   \n",
       "4  2020-01-05 06:39:18  pharma/I984321            Variable   \n",
       "..                 ...             ...                 ...   \n",
       "67 2020-01-05 14:35:24  pharma/de01234            Variable   \n",
       "68 2020-01-05 14:39:49          System  Benutzerverwaltung   \n",
       "69 2020-01-05 14:39:50          System  Benutzerverwaltung   \n",
       "70 2020-01-05 14:49:03  pharma/I984321            Variable   \n",
       "71 2020-01-05 14:53:13          System  Benutzerverwaltung   \n",
       "\n",
       "                                          Description Comments  \n",
       "0   Anmeldung von Benutzer pharma/de01234 war erfo...      NaN  \n",
       "1       Variable Dauer is changed from 500.0 to 650.0      NaN  \n",
       "2   Abmeldung von Benutzer pharma/de01234 war erfo...      NaN  \n",
       "3   Anmeldung von Benutzer pharma/I984321 war erfo...      NaN  \n",
       "4   Variable Geschwindigkeit is changed from 18.0 ...      NaN  \n",
       "..                                                ...      ...  \n",
       "67         Variable Mirror is changed from 0.0 to 0.0      NaN  \n",
       "68  Abmeldung von Benutzer pharma/de01234 war erfo...      NaN  \n",
       "69  Anmeldung von Benutzer pharma/I984321 war erfo...      NaN  \n",
       "70      Variable Dauer is changed from 930.0 to 120.0      NaN  \n",
       "71  Abmeldung von Benutzer pharma/I984321 war erfo...      NaN  \n",
       "\n",
       "[72 rows x 5 columns]"
      ]
     },
     "execution_count": 119,
     "metadata": {},
     "output_type": "execute_result"
    }
   ],
   "source": [
    "dataBase['Timestamp'] = pd.to_datetime(np.sort(entries))\n",
    "dataBase['User ID'] = userList\n",
    "dataBase['Object ID'] = objectList\n",
    "dataBase['Description'] = descriptionList\n",
    "\n",
    "dataBase"
   ]
  },
  {
   "cell_type": "code",
   "execution_count": 120,
   "metadata": {
    "jupyter": {
     "source_hidden": true
    }
   },
   "outputs": [],
   "source": [
    "dataBase.to_csv(dataBaseEntries['Setup'].loc[1, 'Filename'])"
   ]
  },
  {
   "cell_type": "code",
   "execution_count": 121,
   "metadata": {
    "jupyter": {
     "source_hidden": true
    }
   },
   "outputs": [],
   "source": [
    "excelWriter = pd.ExcelWriter('AuditTrailDataEntries.xlsx')\n",
    "\n",
    "for key, values in dataBaseEntries.items():\n",
    "    values.to_excel(excelWriter, key)\n",
    "\n",
    "excelWriter.save()"
   ]
  },
  {
   "cell_type": "code",
   "execution_count": null,
   "metadata": {
    "jupyter": {
     "source_hidden": true
    }
   },
   "outputs": [],
   "source": []
  }
 ],
 "metadata": {
  "kernelspec": {
   "display_name": "Python 3",
   "language": "python",
   "name": "python3"
  },
  "language_info": {
   "codemirror_mode": {
    "name": "ipython",
    "version": 3
   },
   "file_extension": ".py",
   "mimetype": "text/x-python",
   "name": "python",
   "nbconvert_exporter": "python",
   "pygments_lexer": "ipython3",
   "version": "3.8.2"
  }
 },
 "nbformat": 4,
 "nbformat_minor": 4
}
