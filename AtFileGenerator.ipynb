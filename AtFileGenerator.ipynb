{
 "cells": [
  {
   "cell_type": "markdown",
   "metadata": {},
   "source": [
    "Generate a Audit Trail test file"
   ]
  },
  {
   "cell_type": "code",
   "execution_count": null,
   "metadata": {},
   "outputs": [],
   "source": [
    "#Define User Variable\n",
    "import pandas as pd\n",
    "\n",
    "dataBase = pd.DataFrame(columns = ['Timestamp', 'User ID', 'Object ID', 'Description', 'Comments'])\n",
    "\n",
    "atStartDate = '01.05.2020 6:00:00'\n",
    "atEndDate = '01.05.2020 15:00:00' # alternativ könnte hier +8h stehen\n",
    "maxAtEntries = 10\n",
    "\n",
    "userDB = pd.DataFrame( columns = ['User ID', 'Probablility'] )\n",
    "\n",
    "userDB['User ID'] = ['Admin', 'System']\n",
    "userDB['Probablility'] = [0.2, 0.1]\n"
   ]
  },
  {
   "cell_type": "code",
   "execution_count": null,
   "metadata": {},
   "outputs": [],
   "source": [
    "#Define Users\n",
    "userEx = pd.DataFrame( columns = ['User ID', 'Probablility'] )\n",
    "\n",
    "userEx['User ID'] = ['pharma/de01234', 'pharma/I047874', 'pharma/I047874', 'pharma/I984321']\n",
    "\n",
    "\n",
    "#Define probablility\n",
    "\n",
    "#equal probability\n",
    "val = (1 - userDB[ userDB.columns[1] ].sum()) / userEx.shape[0]\n",
    "userEx['Probablility'] = [val] * userEx.shape[0]\n",
    "#userDB = userDB.append( {'User ID': user, 'Probablility': prop }, ignore_index=True )\n",
    "\n",
    "userDB = pd.concat([userDB, userEx], ignore_index = True)\n",
    "\n",
    "userDB"
   ]
  },
  {
   "cell_type": "code",
   "execution_count": 3,
   "metadata": {},
   "outputs": [],
   "source": [
    "userIDs = userDB['User ID'].to_list()\n",
    "#bring the description dict into the userDB as well\n",
    "#system and user extension separat\n",
    "\n",
    "descriptions = {\n",
    "    userIDs[0]: [['Wechsel in die Betriebsart Online', 'Wechsel in die Betriebsart Offline', 'Anwendung wird gestartet', 'Anwendung wird beendet'],\n",
    "              [                                0.2,                                  0.2,                        0.2,                     0.4]],\n",
    "    userIDs[1]: [['Benutzer # wurde hinzugefügt', 'Benutzer # wurde entfernt', 'Benutzer # ist keiner Gruppe zugeordnet', 'Benutzer # ist einer neuen Gruppe zugeordnet'],\n",
    "               [                           0.1,                         0.1,                                       0.4,                                           0.4]],  \n",
    "    userIDs[2]: [['Umfang # wurde geändert', 'Schwellwert wurde geändert', 'Wert wurde gelöscht', 'Hambeuldu'],\n",
    "              [                        0.1,                        0.1,                   0.4,        0.4]],\n",
    "}\n",
    "    \n",
    "descriptions[userIDs[3]] = descriptions[userIDs[2]]\n",
    "descriptions[userIDs[4]] = descriptions[userIDs[2]]\n",
    "descriptions[userIDs[5]] = descriptions[userIDs[2]]"
   ]
  },
  {
   "cell_type": "code",
   "execution_count": 4,
   "metadata": {},
   "outputs": [],
   "source": [
    "#User login and logof entries\n",
    "logIn = 'An'\n",
    "logOff = 'Ab'\n",
    "\n",
    "logEntryDic = {\n",
    "    'UserId': userIDs[1], \n",
    "    'ObjectId': 'Benutzerverwaltung',\n",
    "    'Description': 'meldung von Benutzer # war erfolgreich.' \n",
    "}"
   ]
  },
  {
   "cell_type": "code",
   "execution_count": 5,
   "metadata": {},
   "outputs": [],
   "source": [
    "#3. enhance database entries\n",
    "userList = []\n",
    "objectList = []\n",
    "descriptionList = []\n",
    "commentsList = []"
   ]
  },
  {
   "cell_type": "code",
   "execution_count": 6,
   "metadata": {},
   "outputs": [],
   "source": [
    "#helping functions\n",
    "def logEntry(logPostFix, user):\n",
    "    userList.append(logEntryDic['UserId'])\n",
    "    objectList.append(logEntryDic['ObjectId'])\n",
    "    descriptionList.append(logPostFix + re.sub('#', user, logEntryDic['Description']))\n",
    "    \n",
    "def userEntry(user):\n",
    "    userList.append(user)\n",
    "    objectList.append('ObjectID for user ' + user )#random user related object ID\n",
    "    \n",
    "    ds = np.random.choice(descriptions[user][0], 1, p=descriptions[user][1])                          \n",
    "    descriptionList.append(ds[0])# random user related description ID\n",
    "    "
   ]
  },
  {
   "cell_type": "code",
   "execution_count": 7,
   "metadata": {},
   "outputs": [],
   "source": [
    "#Generate random values\n",
    "#1. numbers of audit trail entries \n",
    "import numpy as np # import random insteed\n",
    "import re #regex \n",
    "\n",
    "nOfAtEntries = np.random.choice(maxAtEntries, 1)\n",
    "#userEntries = np.random.choice(userIDs, nOfAtEntries, p=userProp)\n",
    "userEntries = np.random.choice(userDB['User ID'].to_list(), nOfAtEntries, p=userDB['Probablility'].to_list())\n",
    "#plot the distribution of users"
   ]
  },
  {
   "cell_type": "code",
   "execution_count": 8,
   "metadata": {},
   "outputs": [],
   "source": [
    "#3. enhance database entries\n",
    "loggedUser = None\n",
    "newUser = None\n",
    "\n",
    "\n",
    "for user in userEntries:\n",
    "    if 'pharma/' not in user:\n",
    "        if loggedUser:\n",
    "            loggedUser = None\n",
    "            logEntry(logOff, user)\n",
    "        userEntry(user)\n",
    "    \n",
    "    if 'pharma/' in user:\n",
    "        newUser = user\n",
    "        while newUser:\n",
    "            if not loggedUser:\n",
    "                loggedUser = user\n",
    "                logEntry(logIn, user) \n",
    "            if loggedUser == user:\n",
    "                userEntry(user)\n",
    "                newUser = None\n",
    "            else:\n",
    "                logEntry(logOff, user)\n",
    "                loggedUser = None\n",
    "                newUser = user\n",
    "            \n",
    "if loggedUser:\n",
    "    logEntry(logOff, user)\n",
    "    loggedUser = None"
   ]
  },
  {
   "cell_type": "code",
   "execution_count": 9,
   "metadata": {},
   "outputs": [],
   "source": [
    "#2. Random timestamps for each entry\n",
    "entries = np.random.choice(pd.date_range(atStartDate, atEndDate, freq='S'), \n",
    "                           len(userList), \n",
    "                           replace=False)"
   ]
  },
  {
   "cell_type": "code",
   "execution_count": 10,
   "metadata": {},
   "outputs": [
    {
     "data": {
      "text/html": [
       "<div>\n",
       "<style scoped>\n",
       "    .dataframe tbody tr th:only-of-type {\n",
       "        vertical-align: middle;\n",
       "    }\n",
       "\n",
       "    .dataframe tbody tr th {\n",
       "        vertical-align: top;\n",
       "    }\n",
       "\n",
       "    .dataframe thead th {\n",
       "        text-align: right;\n",
       "    }\n",
       "</style>\n",
       "<table border=\"1\" class=\"dataframe\">\n",
       "  <thead>\n",
       "    <tr style=\"text-align: right;\">\n",
       "      <th></th>\n",
       "      <th>Timestamp</th>\n",
       "      <th>User ID</th>\n",
       "      <th>Object ID</th>\n",
       "      <th>Description</th>\n",
       "      <th>Comments</th>\n",
       "    </tr>\n",
       "  </thead>\n",
       "  <tbody>\n",
       "    <tr>\n",
       "      <th>0</th>\n",
       "      <td>2020-01-05 07:38:54</td>\n",
       "      <td>System</td>\n",
       "      <td>Benutzerverwaltung</td>\n",
       "      <td>Anmeldung von Benutzer pharma/I047874 war erfo...</td>\n",
       "      <td>NaN</td>\n",
       "    </tr>\n",
       "    <tr>\n",
       "      <th>1</th>\n",
       "      <td>2020-01-05 08:30:48</td>\n",
       "      <td>pharma/I047874</td>\n",
       "      <td>ObjectID for user pharma/I047874</td>\n",
       "      <td>Wert wurde gelöscht</td>\n",
       "      <td>NaN</td>\n",
       "    </tr>\n",
       "    <tr>\n",
       "      <th>2</th>\n",
       "      <td>2020-01-05 09:51:58</td>\n",
       "      <td>System</td>\n",
       "      <td>Benutzerverwaltung</td>\n",
       "      <td>Abmeldung von Benutzer pharma/I984321 war erfo...</td>\n",
       "      <td>NaN</td>\n",
       "    </tr>\n",
       "    <tr>\n",
       "      <th>3</th>\n",
       "      <td>2020-01-05 10:17:02</td>\n",
       "      <td>System</td>\n",
       "      <td>Benutzerverwaltung</td>\n",
       "      <td>Anmeldung von Benutzer pharma/I984321 war erfo...</td>\n",
       "      <td>NaN</td>\n",
       "    </tr>\n",
       "    <tr>\n",
       "      <th>4</th>\n",
       "      <td>2020-01-05 11:06:42</td>\n",
       "      <td>pharma/I984321</td>\n",
       "      <td>ObjectID for user pharma/I984321</td>\n",
       "      <td>Wert wurde gelöscht</td>\n",
       "      <td>NaN</td>\n",
       "    </tr>\n",
       "    <tr>\n",
       "      <th>5</th>\n",
       "      <td>2020-01-05 14:31:17</td>\n",
       "      <td>System</td>\n",
       "      <td>Benutzerverwaltung</td>\n",
       "      <td>Abmeldung von Benutzer pharma/I984321 war erfo...</td>\n",
       "      <td>NaN</td>\n",
       "    </tr>\n",
       "  </tbody>\n",
       "</table>\n",
       "</div>"
      ],
      "text/plain": [
       "            Timestamp         User ID                         Object ID  \\\n",
       "0 2020-01-05 07:38:54          System                Benutzerverwaltung   \n",
       "1 2020-01-05 08:30:48  pharma/I047874  ObjectID for user pharma/I047874   \n",
       "2 2020-01-05 09:51:58          System                Benutzerverwaltung   \n",
       "3 2020-01-05 10:17:02          System                Benutzerverwaltung   \n",
       "4 2020-01-05 11:06:42  pharma/I984321  ObjectID for user pharma/I984321   \n",
       "5 2020-01-05 14:31:17          System                Benutzerverwaltung   \n",
       "\n",
       "                                         Description Comments  \n",
       "0  Anmeldung von Benutzer pharma/I047874 war erfo...      NaN  \n",
       "1                                Wert wurde gelöscht      NaN  \n",
       "2  Abmeldung von Benutzer pharma/I984321 war erfo...      NaN  \n",
       "3  Anmeldung von Benutzer pharma/I984321 war erfo...      NaN  \n",
       "4                                Wert wurde gelöscht      NaN  \n",
       "5  Abmeldung von Benutzer pharma/I984321 war erfo...      NaN  "
      ]
     },
     "execution_count": 10,
     "metadata": {},
     "output_type": "execute_result"
    }
   ],
   "source": [
    "dataBase['Timestamp'] = pd.to_datetime(np.sort(entries))\n",
    "dataBase['User ID'] = userList\n",
    "dataBase['Object ID'] = objectList\n",
    "dataBase['Description'] = descriptionList\n",
    "\n",
    "dataBase.to_csv('auditTrail.csv')\n",
    "dataBase"
   ]
  },
  {
   "cell_type": "code",
   "execution_count": null,
   "metadata": {},
   "outputs": [],
   "source": []
  },
  {
   "cell_type": "code",
   "execution_count": null,
   "metadata": {},
   "outputs": [],
   "source": []
  }
 ],
 "metadata": {
  "kernelspec": {
   "display_name": "Python 3",
   "language": "python",
   "name": "python3"
  },
  "language_info": {
   "codemirror_mode": {
    "name": "ipython",
    "version": 3
   },
   "file_extension": ".py",
   "mimetype": "text/x-python",
   "name": "python",
   "nbconvert_exporter": "python",
   "pygments_lexer": "ipython3",
   "version": "3.8.2"
  }
 },
 "nbformat": 4,
 "nbformat_minor": 4
}
